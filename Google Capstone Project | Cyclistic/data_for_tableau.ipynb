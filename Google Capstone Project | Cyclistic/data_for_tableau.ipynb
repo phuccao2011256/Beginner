{
 "cells": [
  {
   "cell_type": "code",
   "execution_count": null,
   "metadata": {},
   "outputs": [],
   "source": [
    "import os\n",
    "import numpy as np\n",
    "import pandas as pd"
   ]
  },
  {
   "cell_type": "code",
   "execution_count": null,
   "metadata": {},
   "outputs": [],
   "source": []
  },
  {
   "cell_type": "code",
   "execution_count": null,
   "metadata": {},
   "outputs": [],
   "source": [
    "def data_for_tableau(file_list):\n",
    "    \"\"\" Merge monthly files and export a full year .csv file for visualization in Tableau \"\"\"\n",
    "\n",
    "    # move all the files to the current directory before running this code\n",
    "    path = os.getcwd()\n",
    "    file_list = [x for x in os.listdir(path) if x.startswith('2022')]\n",
    "    df_list = []\n",
    "    dim_time = pd.Series(['night']*6 + ['morning']*6 + ['afternoon']*6 + ['evening']*6)\n",
    "    dim_season = pd.Series(['winter']*2 + ['spring']*3 + ['summer']*3 + ['fall']*3 + ['winter'])\n",
    "\n",
    "    # trimming function (0.95 quantile)\n",
    "    def trimmed_095(trip_data):\n",
    "        outlier_value = trip_data.groupby(['member_casual', 'rideable_type'])['trip_length_(min)'].transform(lambda x: x.quantile(0.95))\n",
    "        df_clean = trip_data.loc[(trip_data['trip_length_(min)'] > 0) & (trip_data['trip_length_(min)'] <= outlier_value)].copy(deep=True)\n",
    "        return df_clean\n",
    "\n",
    "    for file in file_list:\n",
    "        # prepare data\n",
    "        df = pd.read_csv(file, parse_dates=['started_at', 'ended_at'])\n",
    "        df.drop_duplicates(inplace=True)\n",
    "        df.dropna(subset=['started_at', 'ended_at'], inplace=True)\n",
    "        df.sort_values(by='started_at', ascending=True, inplace=True)\n",
    "\n",
    "        # remove outliers, invalid values and round trip time\n",
    "        df['trip_length_(min)'] = (df['ended_at'] - df['started_at']).astype('timedelta64[s]') / 60\n",
    "        df = trimmed_095(df)\n",
    "        df['trip_length_(min)'] = df['trip_length_(min)'].round(2)\n",
    "        \n",
    "        # create columns for times of day and seasons\n",
    "        hour = df['started_at'].dt.hour\n",
    "        month = df['started_at'].dt.month\n",
    "        df['part_of_day'] = dim_time.take(hour).to_numpy()\n",
    "        df['season'] = dim_season.take(month-1).to_numpy()\n",
    "\n",
    "        # rename some columns and drop unnecessary ones\n",
    "        df.rename(columns={'rideable_type': 'bike_type', 'member_casual': 'customer_type'}, inplace=True)\n",
    "        df = df.reindex(columns=['bike_type', 'customer_type', 'started_at', 'part_of_day', 'season', 'trip_length_(min)'])\n",
    "\n",
    "        df_list.append(df)\n",
    "\n",
    "    # merge all dataframes and export to .csv\n",
    "    trip_clean = pd.concat(df_list, ignore_index=True)\n",
    "    trip_clean.to_csv('tripdata_tableau.csv', index=False)\n",
    "    \n",
    "    return 'File exported successfully'"
   ]
  },
  {
   "cell_type": "code",
   "execution_count": null,
   "metadata": {},
   "outputs": [],
   "source": [
    "data_for_tableau()"
   ]
  }
 ],
 "metadata": {
  "language_info": {
   "name": "python"
  },
  "orig_nbformat": 4
 },
 "nbformat": 4,
 "nbformat_minor": 2
}
