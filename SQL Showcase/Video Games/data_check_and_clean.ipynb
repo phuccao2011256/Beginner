{
    "cells": [
        {
            "attachments": {},
            "cell_type": "markdown",
            "metadata": {
                "azdata_cell_guid": "9459c8d3-c2c1-4f68-98c0-5075cac481e6"
            },
            "source": [
                "In this notebook I write queries to check the quality of the video game database and clean it with DML (Data Manipulation Language: INSERT, UPDATE, DELETE).\n",
                "\n",
                "---\n",
                "\n",
                "First, I look at the `game` table to check for duplicate `game_name`"
            ]
        },
        {
            "cell_type": "code",
            "execution_count": null,
            "metadata": {
                "azdata_cell_guid": "572845c5-9253-478f-aba5-e34e33f31007",
                "language": "sql"
            },
            "outputs": [],
            "source": [
                "SELECT\n",
                "    g.game_id,\n",
                "    dup.genre_id,\n",
                "    dup.game_name,\n",
                "    gpb.game_publisher_id,\n",
                "    gpb.publisher_id,\n",
                "    gpf.platform_id,\n",
                "    gpf.release_year\n",
                "FROM\n",
                "(\n",
                "    SELECT\n",
                "        genre_id,\n",
                "        game_name,\n",
                "        COUNT(*) as record\n",
                "    FROM game\n",
                "    GROUP BY genre_id,\n",
                "        game_name\n",
                "    HAVING COUNT(*) > 1\n",
                ") dup \n",
                "JOIN game g ON dup.genre_id = g.genre_id\n",
                "    AND dup.game_name = g.game_name\n",
                "JOIN game_publisher gpb ON g.game_id = gpb.game_id\n",
                "JOIN game_platform gpf ON gpb.game_publisher_id = gpf.game_publisher_id"
            ]
        },
        {
            "attachments": {},
            "cell_type": "markdown",
            "metadata": {
                "azdata_cell_guid": "0ff55665-900e-426d-b899-9816b5537c31"
            },
            "source": [
                "**Here is the result:**\n",
                "\n",
                "![](.\\game_name_dup.png)\n",
                "\n",
                "There is one duplicate with the same `game_name` but different `game_id`, which leads to different `game_publisher_id`. But both titles have the same publisher, only made for two distinct platforms.\n",
                "\n",
                "Before I can apply DML to correct the data, I need to disable the `CONSTRAINT` for these tables (in this case `FOREIGN KEY` constraint), or else the system will raise errors. I use **Azure Data Studio** (light-weight database tool from Microsoft) so I can disable and re-enable constraints easily using its GUI, but you can write statements like this:\n",
                "\n",
                "For disabling constraints:\n",
                "\n",
                "```\n",
                "ALTER TABLE table_name\n",
                "NOCHECK CONSTRAINT constraint_name;\n",
                "```\n",
                "\n",
                "For re-enabling constraints:\n",
                "\n",
                "```\n",
                "ALTER TABLE table_name\n",
                "WITH CHEKC CHECK CONSTRAINT constraint_name;\n",
                "```\n",
                "\n",
                "To preserve the one-to-many relationship between `game` table and other tables, I do the following:\n",
                "\n",
                "- Delete the row with `game_id` 9318 from `game` table\n",
                "- Continue to delete the row with `game_publisher_id` 1972 in the `game_publisher` table since it referenced `game_id` 9318.\n",
                "- Finally, change `game_publisher_id` in the `game_platform` table from 1972 to 3729. At this moment, `game_id` and `game_publisher_id` have been unique across tables.\n"
            ]
        },
        {
            "cell_type": "code",
            "execution_count": null,
            "metadata": {
                "azdata_cell_guid": "1fc88613-b251-4ce2-af53-dd82e8e20909",
                "language": "sql"
            },
            "outputs": [],
            "source": [
                "DELETE from game\n",
                "WHERE game_id = 9318\n",
                "\n",
                "DELETE from game_publisher\n",
                "WHERE game_publisher_id = 1972\n",
                "\n",
                "UPDATE game_platform\n",
                "SET game_publisher_id = 3729\n",
                "WHERE game_publisher_id = 1972"
            ]
        },
        {
            "attachments": {},
            "cell_type": "markdown",
            "metadata": {
                "azdata_cell_guid": "a2f8c303-f8e2-4fb4-a90e-6e86ae239403",
                "language": "sql"
            },
            "source": [
                "Another table that has duplicates is `region_sale` table"
            ]
        },
        {
            "cell_type": "code",
            "execution_count": null,
            "metadata": {
                "azdata_cell_guid": "425ceee7-ae1b-4727-a213-8dd12e745811",
                "language": "sql"
            },
            "outputs": [],
            "source": [
                "SELECT \n",
                "    region_id, \n",
                "    game_platform_id,\n",
                "    COUNT(*) as record\n",
                "FROM region_sales \n",
                "GROUP BY region_id, game_platform_id\n",
                "HAVING COUNT(*) > 1"
            ]
        },
        {
            "attachments": {},
            "cell_type": "markdown",
            "metadata": {
                "azdata_cell_guid": "55a1bc94-6b25-405e-a9e4-07adbd0d75e3",
                "language": "sql"
            },
            "source": [
                "![](.\\sales_dup.png)\n",
                "\n",
                "There are 16 duplicate values. But adding `num_sale` column to the group reveala that only 2 values have the same sales figure, which means other 14 values have different sales\n",
                "\n",
                "![](.\\sales_dup2.png)\n",
                "\n",
                "Because I don't know which sales number to keep, I will take a blind approach keep the higher sales. It might be wrong, but since my purpose is to demonstrate SQL queries rather than precise analysis, I can ignore this flaw."
            ]
        },
        {
            "cell_type": "code",
            "execution_count": null,
            "metadata": {
                "azdata_cell_guid": "10005c29-4497-4c50-a2c8-b03b78ac05b7",
                "language": "sql"
            },
            "outputs": [],
            "source": [
                "WITH dup_cte AS (\n",
                "    select\n",
                "        region_id,\n",
                "        game_platform_id,\n",
                "        num_sales,\n",
                "        ROW_NUMBER() OVER (PARTITION BY region_id, game_platform_id ORDER BY num_sales DESC) AS row_number\n",
                "    FROM region_sales\n",
                ")\n",
                "DELETE from dup_cte\n",
                "WHERE row_number >= 2"
            ]
        },
        {
            "attachments": {},
            "cell_type": "markdown",
            "metadata": {
                "azdata_cell_guid": "a110b1f2-3150-4390-8a70-acb6383fba99",
                "language": "sql"
            },
            "source": [
                "Above I use `ROW_NUMBER()` window function to mark the duplicates. Duplicate values will have 2, 3,... in this `row_number` column. The `ORDER BY num_sales DESC` ensures that rows with highest sales will be marked as 1. Then I wrap the query as a CTE (Common Table Expression) and delete all rows other than the first occurence.\n",
                "\n",
                "I can then add a group primary key to `region_id` and `game_platform_id` to enforce uniqueness for future data inserting and updating. The data from this point is ready for analysis."
            ]
        }
    ],
    "metadata": {
        "kernelspec": {
            "display_name": "SQL",
            "language": "sql",
            "name": "SQL"
        },
        "language_info": {
            "name": "sql",
            "version": ""
        }
    },
    "nbformat": 4,
    "nbformat_minor": 2
}
