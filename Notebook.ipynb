{
    "metadata": {
        "kernelspec": {
            "name": "SQL",
            "display_name": "SQL",
            "language": "sql"
        },
        "language_info": {
            "name": "sql",
            "version": ""
        }
    },
    "nbformat_minor": 2,
    "nbformat": 4,
    "cells": [
        {
            "cell_type": "markdown",
            "source": [
                "# Portfolio Project\r\n",
                "Return all bike brands"
            ],
            "metadata": {
                "language": "sql",
                "azdata_cell_guid": "0c3d6b8e-5462-4715-aec5-f7282968da07"
            },
            "attachments": {}
        },
        {
            "cell_type": "code",
            "source": [
                "SELECT *\r\n",
                "FROM production.brands"
            ],
            "metadata": {
                "azdata_cell_guid": "6f978c14-08d3-489a-803a-a08fe64ee448",
                "language": "sql",
                "tags": []
            },
            "outputs": [
                {
                    "output_type": "display_data",
                    "data": {
                        "text/html": "(9 rows affected)"
                    },
                    "metadata": {}
                },
                {
                    "output_type": "display_data",
                    "data": {
                        "text/html": "Total execution time: 00:00:00.021"
                    },
                    "metadata": {}
                },
                {
                    "output_type": "execute_result",
                    "metadata": {},
                    "execution_count": 1,
                    "data": {
                        "application/vnd.dataresource+json": {
                            "schema": {
                                "fields": [
                                    {
                                        "name": "brand_id"
                                    },
                                    {
                                        "name": "brand_name"
                                    }
                                ]
                            },
                            "data": [
                                {
                                    "0": "1",
                                    "1": "Electra"
                                },
                                {
                                    "0": "2",
                                    "1": "Haro"
                                },
                                {
                                    "0": "3",
                                    "1": "Heller"
                                },
                                {
                                    "0": "4",
                                    "1": "Pure Cycles"
                                },
                                {
                                    "0": "5",
                                    "1": "Ritchey"
                                },
                                {
                                    "0": "6",
                                    "1": "Strider"
                                },
                                {
                                    "0": "7",
                                    "1": "Sun Bicycles"
                                },
                                {
                                    "0": "8",
                                    "1": "Surly"
                                },
                                {
                                    "0": "9",
                                    "1": "Trek"
                                }
                            ]
                        },
                        "text/html": [
                            "<table>",
                            "<tr><th>brand_id</th><th>brand_name</th></tr>",
                            "<tr><td>1</td><td>Electra</td></tr>",
                            "<tr><td>2</td><td>Haro</td></tr>",
                            "<tr><td>3</td><td>Heller</td></tr>",
                            "<tr><td>4</td><td>Pure Cycles</td></tr>",
                            "<tr><td>5</td><td>Ritchey</td></tr>",
                            "<tr><td>6</td><td>Strider</td></tr>",
                            "<tr><td>7</td><td>Sun Bicycles</td></tr>",
                            "<tr><td>8</td><td>Surly</td></tr>",
                            "<tr><td>9</td><td>Trek</td></tr>",
                            "</table>"
                        ]
                    }
                }
            ],
            "execution_count": 1
        }
    ]
}